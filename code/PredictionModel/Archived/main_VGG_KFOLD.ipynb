{
 "cells": [
  {
   "cell_type": "markdown",
   "metadata": {},
   "source": [
    "Extract mel-spectrogram from audio"
   ]
  },
  {
   "cell_type": "code",
   "execution_count": 13,
   "metadata": {},
   "outputs": [],
   "source": [
    "from sklearn.model_selection import KFold\n",
    "from keras.preprocessing.image import ImageDataGenerator\n",
    "from keras.applications.vgg16 import VGG16\n",
    "from keras.models import Model\n",
    "from keras.layers import Dense, Flatten\n",
    "from keras.optimizers import Adam\n",
    "from keras.metrics import Precision, Recall\n",
    "import os\n",
    "import numpy as np\n",
    "from keras.preprocessing.image import load_img, img_to_array\n",
    "from keras.applications.vgg16 import preprocess_input"
   ]
  },
  {
   "cell_type": "markdown",
   "metadata": {},
   "source": [
    "Find graphic specs"
   ]
  },
  {
   "cell_type": "code",
   "execution_count": 14,
   "metadata": {},
   "outputs": [],
   "source": [
    "def load_data(dir_path):\n",
    "    X = []\n",
    "    y = []\n",
    "    labels = ['PD', 'HC']\n",
    "    for label in labels:\n",
    "        path = os.path.join(dir_path, label)\n",
    "        class_num = labels.index(label)\n",
    "        for img in os.listdir(path):\n",
    "            try:\n",
    "                img_arr = img_to_array(load_img(os.path.join(path, img), target_size=(640, 480)))  # Convert image to array\n",
    "                X.append(preprocess_input(img_arr))  # Preprocess the image using VGG16's preprocess_input method\n",
    "                y.append(class_num)\n",
    "            except Exception as e:\n",
    "                print(e)\n",
    "    return np.array(X), np.array(y)"
   ]
  },
  {
   "cell_type": "code",
   "execution_count": 15,
   "metadata": {},
   "outputs": [
    {
     "name": "stdout",
     "output_type": "stream",
     "text": [
      "cannot identify image file <_io.BytesIO object at 0x2e9038310>\n"
     ]
    }
   ],
   "source": [
    "X, y = load_data('./plots/')\n",
    "\n",
    "# Define the K-fold Cross Validator\n",
    "kfold = KFold(n_splits=5, shuffle=True)\n",
    "\n",
    "# K-fold Cross Validation model evaluation\n",
    "fold_no = 1\n",
    "histories = []\n",
    "scores_per_fold = []"
   ]
  },
  {
   "cell_type": "markdown",
   "metadata": {},
   "source": [
    "train"
   ]
  },
  {
   "cell_type": "code",
   "execution_count": 16,
   "metadata": {},
   "outputs": [
    {
     "name": "stderr",
     "output_type": "stream",
     "text": [
      "WARNING:absl:At this time, the v2.11+ optimizer `tf.keras.optimizers.Adam` runs slowly on M1/M2 Macs, please use the legacy Keras optimizer instead, located at `tf.keras.optimizers.legacy.Adam`.\n",
      "WARNING:absl:`lr` is deprecated in Keras optimizer, please use `learning_rate` or use the legacy optimizer, e.g.,tf.keras.optimizers.legacy.Adam.\n",
      "WARNING:absl:There is a known slowdown when using v2.11+ Keras optimizers on M1/M2 Macs. Falling back to the legacy Keras optimizer, i.e., `tf.keras.optimizers.legacy.Adam`.\n"
     ]
    },
    {
     "name": "stdout",
     "output_type": "stream",
     "text": [
      "------------------------------------------------------------------------\n",
      "Training for fold 1 ...\n",
      "Epoch 1/20\n",
      "2/2 [==============================] - 17s 3s/step - loss: 142.9741 - accuracy: 0.4500 - precision_5: 0.4000 - recall_5: 0.7500\n",
      "Epoch 2/20\n",
      "2/2 [==============================] - 16s 3s/step - loss: 334.8394 - accuracy: 0.6000 - precision_5: 0.0000e+00 - recall_5: 0.0000e+00\n",
      "Epoch 3/20\n",
      "2/2 [==============================] - 16s 3s/step - loss: 9.8176 - accuracy: 0.8000 - precision_5: 0.7222 - recall_5: 0.8125\n",
      "Epoch 4/20\n",
      "2/2 [==============================] - 16s 3s/step - loss: 37.3714 - accuracy: 0.5250 - precision_5: 0.4571 - recall_5: 1.0000\n",
      "Epoch 5/20\n",
      "2/2 [==============================] - 16s 3s/step - loss: 2.4495 - accuracy: 0.9000 - precision_5: 0.8000 - recall_5: 1.0000\n",
      "Epoch 6/20\n",
      "2/2 [==============================] - 17s 3s/step - loss: 0.1256 - accuracy: 0.9750 - precision_5: 1.0000 - recall_5: 0.9375\n",
      "Epoch 7/20\n",
      "2/2 [==============================] - 17s 3s/step - loss: 3.6815 - accuracy: 0.8250 - precision_5: 1.0000 - recall_5: 0.5625\n",
      "Epoch 8/20\n",
      "2/2 [==============================] - 16s 3s/step - loss: 1.0822 - accuracy: 0.9500 - precision_5: 1.0000 - recall_5: 0.8750\n",
      "Epoch 9/20\n",
      "2/2 [==============================] - 16s 3s/step - loss: 0.0434 - accuracy: 0.9750 - precision_5: 1.0000 - recall_5: 0.9375\n",
      "Epoch 10/20\n",
      "2/2 [==============================] - 16s 3s/step - loss: 3.7548e-28 - accuracy: 1.0000 - precision_5: 1.0000 - recall_5: 1.0000\n",
      "Epoch 11/20\n",
      "2/2 [==============================] - 16s 3s/step - loss: 0.0000e+00 - accuracy: 1.0000 - precision_5: 1.0000 - recall_5: 1.0000\n",
      "Epoch 12/20\n",
      "2/2 [==============================] - 16s 3s/step - loss: 3.7111e-36 - accuracy: 1.0000 - precision_5: 1.0000 - recall_5: 1.0000\n",
      "Epoch 13/20\n",
      "2/2 [==============================] - 16s 3s/step - loss: 2.8377e-32 - accuracy: 1.0000 - precision_5: 1.0000 - recall_5: 1.0000\n",
      "Epoch 14/20\n",
      "2/2 [==============================] - 16s 3s/step - loss: 1.2429e-25 - accuracy: 1.0000 - precision_5: 1.0000 - recall_5: 1.0000\n",
      "Epoch 15/20\n",
      "2/2 [==============================] - 16s 3s/step - loss: 5.0179e-18 - accuracy: 1.0000 - precision_5: 1.0000 - recall_5: 1.0000\n",
      "Epoch 16/20\n",
      "2/2 [==============================] - 17s 3s/step - loss: 6.0315e-16 - accuracy: 1.0000 - precision_5: 1.0000 - recall_5: 1.0000\n",
      "Epoch 17/20\n",
      "2/2 [==============================] - 16s 3s/step - loss: 2.3688e-12 - accuracy: 1.0000 - precision_5: 1.0000 - recall_5: 1.0000\n",
      "Epoch 18/20\n",
      "2/2 [==============================] - 16s 3s/step - loss: 2.0147e-09 - accuracy: 1.0000 - precision_5: 1.0000 - recall_5: 1.0000\n",
      "Epoch 19/20\n",
      "2/2 [==============================] - 16s 3s/step - loss: 4.7285e-06 - accuracy: 1.0000 - precision_5: 1.0000 - recall_5: 1.0000\n",
      "Epoch 20/20\n",
      "2/2 [==============================] - 16s 3s/step - loss: 3.6349e-05 - accuracy: 1.0000 - precision_5: 1.0000 - recall_5: 1.0000\n",
      "WARNING:tensorflow:6 out of the last 6 calls to <function Model.make_test_function.<locals>.test_function at 0x2e97ae480> triggered tf.function retracing. Tracing is expensive and the excessive number of tracings could be due to (1) creating @tf.function repeatedly in a loop, (2) passing tensors with different shapes, (3) passing Python objects instead of tensors. For (1), please define your @tf.function outside of the loop. For (2), @tf.function has reduce_retracing=True option that can avoid unnecessary retracing. For (3), please refer to https://www.tensorflow.org/guide/function#controlling_retracing and https://www.tensorflow.org/api_docs/python/tf/function for  more details.\n"
     ]
    },
    {
     "name": "stderr",
     "output_type": "stream",
     "text": [
      "WARNING:tensorflow:6 out of the last 6 calls to <function Model.make_test_function.<locals>.test_function at 0x2e97ae480> triggered tf.function retracing. Tracing is expensive and the excessive number of tracings could be due to (1) creating @tf.function repeatedly in a loop, (2) passing tensors with different shapes, (3) passing Python objects instead of tensors. For (1), please define your @tf.function outside of the loop. For (2), @tf.function has reduce_retracing=True option that can avoid unnecessary retracing. For (3), please refer to https://www.tensorflow.org/guide/function#controlling_retracing and https://www.tensorflow.org/api_docs/python/tf/function for  more details.\n",
      "WARNING:absl:At this time, the v2.11+ optimizer `tf.keras.optimizers.Adam` runs slowly on M1/M2 Macs, please use the legacy Keras optimizer instead, located at `tf.keras.optimizers.legacy.Adam`.\n",
      "WARNING:absl:`lr` is deprecated in Keras optimizer, please use `learning_rate` or use the legacy optimizer, e.g.,tf.keras.optimizers.legacy.Adam.\n",
      "WARNING:absl:There is a known slowdown when using v2.11+ Keras optimizers on M1/M2 Macs. Falling back to the legacy Keras optimizer, i.e., `tf.keras.optimizers.legacy.Adam`.\n"
     ]
    },
    {
     "name": "stdout",
     "output_type": "stream",
     "text": [
      "------------------------------------------------------------------------\n",
      "Training for fold 2 ...\n",
      "Epoch 1/20\n",
      "2/2 [==============================] - 18s 3s/step - loss: 102.6790 - accuracy: 0.5122 - precision_6: 0.4839 - recall_6: 0.7895\n",
      "Epoch 2/20\n",
      "2/2 [==============================] - 17s 3s/step - loss: 403.9609 - accuracy: 0.5366 - precision_6: 0.0000e+00 - recall_6: 0.0000e+00\n",
      "Epoch 3/20\n",
      "2/2 [==============================] - 16s 3s/step - loss: 41.9285 - accuracy: 0.8537 - precision_6: 0.7600 - recall_6: 1.0000\n",
      "Epoch 4/20\n",
      "2/2 [==============================] - 16s 3s/step - loss: 140.2924 - accuracy: 0.4878 - precision_6: 0.4750 - recall_6: 1.0000\n",
      "Epoch 5/20\n",
      "2/2 [==============================] - 16s 3s/step - loss: 8.0133 - accuracy: 0.8780 - precision_6: 0.7917 - recall_6: 1.0000\n",
      "Epoch 6/20\n",
      "2/2 [==============================] - 17s 3s/step - loss: 4.0807 - accuracy: 0.9024 - precision_6: 1.0000 - recall_6: 0.7895\n",
      "Epoch 7/20\n",
      "2/2 [==============================] - 17s 3s/step - loss: 31.5505 - accuracy: 0.7073 - precision_6: 1.0000 - recall_6: 0.3684\n",
      "Epoch 8/20\n",
      "2/2 [==============================] - 17s 3s/step - loss: 20.4467 - accuracy: 0.7317 - precision_6: 1.0000 - recall_6: 0.4211\n",
      "Epoch 9/20\n",
      "2/2 [==============================] - 17s 3s/step - loss: 1.9307 - accuracy: 0.9512 - precision_6: 1.0000 - recall_6: 0.8947\n",
      "Epoch 10/20\n",
      "2/2 [==============================] - 17s 3s/step - loss: 0.0000e+00 - accuracy: 1.0000 - precision_6: 1.0000 - recall_6: 1.0000\n",
      "Epoch 11/20\n",
      "2/2 [==============================] - 17s 3s/step - loss: 0.0000e+00 - accuracy: 1.0000 - precision_6: 1.0000 - recall_6: 1.0000\n",
      "Epoch 12/20\n",
      "2/2 [==============================] - 17s 3s/step - loss: 9.9670e-28 - accuracy: 1.0000 - precision_6: 1.0000 - recall_6: 1.0000\n",
      "Epoch 13/20\n",
      "2/2 [==============================] - 17s 3s/step - loss: 1.9617e-11 - accuracy: 1.0000 - precision_6: 1.0000 - recall_6: 1.0000\n",
      "Epoch 14/20\n",
      "2/2 [==============================] - 17s 3s/step - loss: 0.2055 - accuracy: 0.9756 - precision_6: 0.9500 - recall_6: 1.0000\n",
      "Epoch 15/20\n",
      "2/2 [==============================] - 17s 3s/step - loss: 0.2392 - accuracy: 0.9756 - precision_6: 0.9500 - recall_6: 1.0000\n",
      "Epoch 16/20\n",
      "2/2 [==============================] - 17s 3s/step - loss: 5.0440e-07 - accuracy: 1.0000 - precision_6: 1.0000 - recall_6: 1.0000\n",
      "Epoch 17/20\n",
      "2/2 [==============================] - 16s 3s/step - loss: 1.3314e-17 - accuracy: 1.0000 - precision_6: 1.0000 - recall_6: 1.0000\n",
      "Epoch 18/20\n",
      "2/2 [==============================] - 16s 3s/step - loss: 1.6606e-20 - accuracy: 1.0000 - precision_6: 1.0000 - recall_6: 1.0000\n",
      "Epoch 19/20\n",
      "2/2 [==============================] - 16s 3s/step - loss: 1.1403e-27 - accuracy: 1.0000 - precision_6: 1.0000 - recall_6: 1.0000\n",
      "Epoch 20/20\n",
      "2/2 [==============================] - 16s 3s/step - loss: 2.9524e-28 - accuracy: 1.0000 - precision_6: 1.0000 - recall_6: 1.0000\n"
     ]
    },
    {
     "name": "stderr",
     "output_type": "stream",
     "text": [
      "WARNING:absl:At this time, the v2.11+ optimizer `tf.keras.optimizers.Adam` runs slowly on M1/M2 Macs, please use the legacy Keras optimizer instead, located at `tf.keras.optimizers.legacy.Adam`.\n",
      "WARNING:absl:`lr` is deprecated in Keras optimizer, please use `learning_rate` or use the legacy optimizer, e.g.,tf.keras.optimizers.legacy.Adam.\n",
      "WARNING:absl:There is a known slowdown when using v2.11+ Keras optimizers on M1/M2 Macs. Falling back to the legacy Keras optimizer, i.e., `tf.keras.optimizers.legacy.Adam`.\n"
     ]
    },
    {
     "name": "stdout",
     "output_type": "stream",
     "text": [
      "------------------------------------------------------------------------\n",
      "Training for fold 3 ...\n",
      "Epoch 1/20\n",
      "2/2 [==============================] - 18s 3s/step - loss: 113.8857 - accuracy: 0.5122 - precision_7: 0.5000 - recall_7: 0.3000\n",
      "Epoch 2/20\n",
      "2/2 [==============================] - 17s 3s/step - loss: 232.6901 - accuracy: 0.4878 - precision_7: 0.4857 - recall_7: 0.8500\n",
      "Epoch 3/20\n",
      "2/2 [==============================] - 17s 3s/step - loss: 74.7527 - accuracy: 0.5366 - precision_7: 1.0000 - recall_7: 0.0500   \n",
      "Epoch 4/20\n",
      "2/2 [==============================] - 17s 3s/step - loss: 0.0000e+00 - accuracy: 1.0000 - precision_7: 1.0000 - recall_7: 1.0000\n",
      "Epoch 5/20\n",
      "2/2 [==============================] - 17s 3s/step - loss: 15.8601 - accuracy: 0.8293 - precision_7: 0.7407 - recall_7: 1.0000\n",
      "Epoch 6/20\n",
      "2/2 [==============================] - 17s 3s/step - loss: 18.3424 - accuracy: 0.8293 - precision_7: 0.7407 - recall_7: 1.0000\n",
      "Epoch 7/20\n",
      "2/2 [==============================] - 16s 3s/step - loss: 1.7522 - accuracy: 0.9756 - precision_7: 0.9524 - recall_7: 1.0000\n",
      "Epoch 8/20\n",
      "2/2 [==============================] - 17s 3s/step - loss: 0.0000e+00 - accuracy: 1.0000 - precision_7: 1.0000 - recall_7: 1.0000\n",
      "Epoch 9/20\n",
      "2/2 [==============================] - 17s 3s/step - loss: 0.0000e+00 - accuracy: 1.0000 - precision_7: 1.0000 - recall_7: 1.0000\n",
      "Epoch 10/20\n",
      "2/2 [==============================] - 17s 3s/step - loss: 0.0000e+00 - accuracy: 1.0000 - precision_7: 1.0000 - recall_7: 1.0000\n",
      "Epoch 11/20\n",
      "2/2 [==============================] - 17s 3s/step - loss: 0.0000e+00 - accuracy: 1.0000 - precision_7: 1.0000 - recall_7: 1.0000\n",
      "Epoch 12/20\n",
      "2/2 [==============================] - 17s 3s/step - loss: 0.0000e+00 - accuracy: 1.0000 - precision_7: 1.0000 - recall_7: 1.0000\n",
      "Epoch 13/20\n",
      "2/2 [==============================] - 17s 3s/step - loss: 0.0000e+00 - accuracy: 1.0000 - precision_7: 1.0000 - recall_7: 1.0000\n",
      "Epoch 14/20\n",
      "2/2 [==============================] - 17s 3s/step - loss: 0.0000e+00 - accuracy: 1.0000 - precision_7: 1.0000 - recall_7: 1.0000\n",
      "Epoch 15/20\n",
      "2/2 [==============================] - 17s 3s/step - loss: 0.0000e+00 - accuracy: 1.0000 - precision_7: 1.0000 - recall_7: 1.0000\n",
      "Epoch 16/20\n",
      "2/2 [==============================] - 17s 3s/step - loss: 0.0000e+00 - accuracy: 1.0000 - precision_7: 1.0000 - recall_7: 1.0000\n",
      "Epoch 17/20\n",
      "2/2 [==============================] - 17s 3s/step - loss: 0.0000e+00 - accuracy: 1.0000 - precision_7: 1.0000 - recall_7: 1.0000\n",
      "Epoch 18/20\n",
      "2/2 [==============================] - 17s 3s/step - loss: 0.0000e+00 - accuracy: 1.0000 - precision_7: 1.0000 - recall_7: 1.0000\n",
      "Epoch 19/20\n",
      "2/2 [==============================] - 17s 3s/step - loss: 0.0000e+00 - accuracy: 1.0000 - precision_7: 1.0000 - recall_7: 1.0000\n",
      "Epoch 20/20\n",
      "2/2 [==============================] - 17s 3s/step - loss: 0.0000e+00 - accuracy: 1.0000 - precision_7: 1.0000 - recall_7: 1.0000\n"
     ]
    },
    {
     "name": "stderr",
     "output_type": "stream",
     "text": [
      "WARNING:absl:At this time, the v2.11+ optimizer `tf.keras.optimizers.Adam` runs slowly on M1/M2 Macs, please use the legacy Keras optimizer instead, located at `tf.keras.optimizers.legacy.Adam`.\n",
      "WARNING:absl:`lr` is deprecated in Keras optimizer, please use `learning_rate` or use the legacy optimizer, e.g.,tf.keras.optimizers.legacy.Adam.\n",
      "WARNING:absl:There is a known slowdown when using v2.11+ Keras optimizers on M1/M2 Macs. Falling back to the legacy Keras optimizer, i.e., `tf.keras.optimizers.legacy.Adam`.\n"
     ]
    },
    {
     "name": "stdout",
     "output_type": "stream",
     "text": [
      "------------------------------------------------------------------------\n",
      "Training for fold 4 ...\n",
      "Epoch 1/20\n",
      "2/2 [==============================] - 18s 3s/step - loss: 114.8880 - accuracy: 0.3659 - precision_8: 0.3200 - recall_8: 0.4706\n",
      "Epoch 2/20\n",
      "2/2 [==============================] - 17s 3s/step - loss: 148.9655 - accuracy: 0.6829 - precision_8: 1.0000 - recall_8: 0.2353    \n",
      "Epoch 3/20\n",
      "2/2 [==============================] - 18s 4s/step - loss: 52.3230 - accuracy: 0.5366 - precision_8: 0.4722 - recall_8: 1.0000\n",
      "Epoch 4/20\n",
      "2/2 [==============================] - 18s 3s/step - loss: 4.2329 - accuracy: 0.9024 - precision_8: 0.8095 - recall_8: 1.0000\n",
      "Epoch 5/20\n",
      "2/2 [==============================] - 16s 3s/step - loss: 3.0551 - accuracy: 0.9512 - precision_8: 1.0000 - recall_8: 0.8824\n",
      "Epoch 6/20\n",
      "2/2 [==============================] - 17s 3s/step - loss: 17.3333 - accuracy: 0.8537 - precision_8: 1.0000 - recall_8: 0.6471\n",
      "Epoch 7/20\n",
      "2/2 [==============================] - 17s 3s/step - loss: 11.7177 - accuracy: 0.8780 - precision_8: 1.0000 - recall_8: 0.7059\n",
      "Epoch 8/20\n",
      "2/2 [==============================] - 17s 3s/step - loss: 0.5392 - accuracy: 0.9756 - precision_8: 1.0000 - recall_8: 0.9412\n",
      "Epoch 9/20\n",
      "2/2 [==============================] - 17s 3s/step - loss: 0.0000e+00 - accuracy: 1.0000 - precision_8: 1.0000 - recall_8: 1.0000\n",
      "Epoch 10/20\n",
      "2/2 [==============================] - 17s 3s/step - loss: 0.0000e+00 - accuracy: 1.0000 - precision_8: 1.0000 - recall_8: 1.0000\n",
      "Epoch 11/20\n",
      "2/2 [==============================] - 17s 3s/step - loss: 0.0000e+00 - accuracy: 1.0000 - precision_8: 1.0000 - recall_8: 1.0000\n",
      "Epoch 12/20\n",
      "2/2 [==============================] - 17s 3s/step - loss: 0.0000e+00 - accuracy: 1.0000 - precision_8: 1.0000 - recall_8: 1.0000\n",
      "Epoch 13/20\n",
      "2/2 [==============================] - 17s 3s/step - loss: 8.7425e-38 - accuracy: 1.0000 - precision_8: 1.0000 - recall_8: 1.0000\n",
      "Epoch 14/20\n",
      "2/2 [==============================] - 17s 4s/step - loss: 9.6800e-27 - accuracy: 1.0000 - precision_8: 1.0000 - recall_8: 1.0000\n",
      "Epoch 15/20\n",
      "2/2 [==============================] - 17s 3s/step - loss: 8.2272e-18 - accuracy: 1.0000 - precision_8: 1.0000 - recall_8: 1.0000\n",
      "Epoch 16/20\n",
      "2/2 [==============================] - 17s 3s/step - loss: 1.5529e-07 - accuracy: 1.0000 - precision_8: 1.0000 - recall_8: 1.0000\n",
      "Epoch 17/20\n",
      "2/2 [==============================] - 17s 3s/step - loss: 1.0186e-04 - accuracy: 1.0000 - precision_8: 1.0000 - recall_8: 1.0000\n",
      "Epoch 18/20\n",
      "2/2 [==============================] - 17s 3s/step - loss: 0.1328 - accuracy: 0.9756 - precision_8: 0.9444 - recall_8: 1.0000\n",
      "Epoch 19/20\n",
      "2/2 [==============================] - 17s 3s/step - loss: 4.7937e-13 - accuracy: 1.0000 - precision_8: 1.0000 - recall_8: 1.0000\n",
      "Epoch 20/20\n",
      "2/2 [==============================] - 17s 3s/step - loss: 7.3101e-24 - accuracy: 1.0000 - precision_8: 1.0000 - recall_8: 1.0000\n"
     ]
    },
    {
     "name": "stderr",
     "output_type": "stream",
     "text": [
      "WARNING:absl:At this time, the v2.11+ optimizer `tf.keras.optimizers.Adam` runs slowly on M1/M2 Macs, please use the legacy Keras optimizer instead, located at `tf.keras.optimizers.legacy.Adam`.\n",
      "WARNING:absl:`lr` is deprecated in Keras optimizer, please use `learning_rate` or use the legacy optimizer, e.g.,tf.keras.optimizers.legacy.Adam.\n",
      "WARNING:absl:There is a known slowdown when using v2.11+ Keras optimizers on M1/M2 Macs. Falling back to the legacy Keras optimizer, i.e., `tf.keras.optimizers.legacy.Adam`.\n"
     ]
    },
    {
     "name": "stdout",
     "output_type": "stream",
     "text": [
      "------------------------------------------------------------------------\n",
      "Training for fold 5 ...\n",
      "Epoch 1/20\n",
      "2/2 [==============================] - 18s 3s/step - loss: 123.1206 - accuracy: 0.5854 - precision_9: 0.5556 - recall_9: 0.7500\n",
      "Epoch 2/20\n",
      "2/2 [==============================] - 17s 3s/step - loss: 204.2229 - accuracy: 0.6098 - precision_9: 1.0000 - recall_9: 0.2000    \n",
      "Epoch 3/20\n",
      "2/2 [==============================] - 17s 3s/step - loss: 98.3699 - accuracy: 0.5366 - precision_9: 0.5128 - recall_9: 1.0000\n",
      "Epoch 4/20\n",
      "2/2 [==============================] - 17s 3s/step - loss: 18.6873 - accuracy: 0.7805 - precision_9: 0.6897 - recall_9: 1.0000\n",
      "Epoch 5/20\n",
      "2/2 [==============================] - 17s 3s/step - loss: 6.4203 - accuracy: 0.9024 - precision_9: 1.0000 - recall_9: 0.8000\n",
      "Epoch 6/20\n",
      "2/2 [==============================] - 18s 4s/step - loss: 48.8561 - accuracy: 0.6098 - precision_9: 1.0000 - recall_9: 0.2000\n",
      "Epoch 7/20\n",
      "2/2 [==============================] - 17s 4s/step - loss: 13.6333 - accuracy: 0.8293 - precision_9: 1.0000 - recall_9: 0.6500\n",
      "Epoch 8/20\n",
      "2/2 [==============================] - 17s 3s/step - loss: 0.0000e+00 - accuracy: 1.0000 - precision_9: 1.0000 - recall_9: 1.0000\n",
      "Epoch 9/20\n",
      "2/2 [==============================] - 17s 3s/step - loss: 1.6178 - accuracy: 0.9512 - precision_9: 0.9091 - recall_9: 1.0000\n",
      "Epoch 10/20\n",
      "2/2 [==============================] - 17s 3s/step - loss: 9.0701 - accuracy: 0.9024 - precision_9: 0.8333 - recall_9: 1.0000\n",
      "Epoch 11/20\n",
      "2/2 [==============================] - 17s 3s/step - loss: 7.0214 - accuracy: 0.9024 - precision_9: 0.8333 - recall_9: 1.0000\n",
      "Epoch 12/20\n",
      "2/2 [==============================] - 17s 3s/step - loss: 2.2282 - accuracy: 0.9756 - precision_9: 0.9524 - recall_9: 1.0000\n",
      "Epoch 13/20\n",
      "2/2 [==============================] - 17s 3s/step - loss: 4.3133e-14 - accuracy: 1.0000 - precision_9: 1.0000 - recall_9: 1.0000\n",
      "Epoch 14/20\n",
      "2/2 [==============================] - 17s 3s/step - loss: 2.0483e-28 - accuracy: 1.0000 - precision_9: 1.0000 - recall_9: 1.0000\n",
      "Epoch 15/20\n",
      "2/2 [==============================] - 17s 3s/step - loss: 0.0000e+00 - accuracy: 1.0000 - precision_9: 1.0000 - recall_9: 1.0000\n",
      "Epoch 16/20\n",
      "2/2 [==============================] - 17s 3s/step - loss: 0.0000e+00 - accuracy: 1.0000 - precision_9: 1.0000 - recall_9: 1.0000\n",
      "Epoch 17/20\n",
      "2/2 [==============================] - 16s 3s/step - loss: 0.0000e+00 - accuracy: 1.0000 - precision_9: 1.0000 - recall_9: 1.0000\n",
      "Epoch 18/20\n",
      "2/2 [==============================] - 17s 3s/step - loss: 0.0000e+00 - accuracy: 1.0000 - precision_9: 1.0000 - recall_9: 1.0000\n",
      "Epoch 19/20\n",
      "2/2 [==============================] - 17s 3s/step - loss: 0.0000e+00 - accuracy: 1.0000 - precision_9: 1.0000 - recall_9: 1.0000\n",
      "Epoch 20/20\n",
      "2/2 [==============================] - 17s 4s/step - loss: 0.0000e+00 - accuracy: 1.0000 - precision_9: 1.0000 - recall_9: 1.0000\n"
     ]
    }
   ],
   "source": [
    "# Load VGG16 model, without the top layer (classification layer)\n",
    "for train, test in kfold.split(X, y):\n",
    "   vgg_model = VGG16(weights=\"imagenet\", include_top=False, input_shape=(640, 480, 3))\n",
    "\n",
    "   # Freeze the layers of VGG16 model to retain their pre-trained weights\n",
    "   for layer in vgg_model.layers:\n",
    "      layer.trainable = False\n",
    "\n",
    "   # Add custom layers\n",
    "   x = Flatten()(vgg_model.output)\n",
    "   x = Dense(1024, activation=\"relu\")(x)\n",
    "   predictions = Dense(1, activation=\"sigmoid\")(x)\n",
    "\n",
    "   # Define the new model\n",
    "   model = Model(inputs=vgg_model.input, outputs=predictions)\n",
    "\n",
    "   # Compile the model\n",
    "   model.compile(optimizer=Adam(lr=0.0001), \n",
    "               loss='binary_crossentropy', \n",
    "               metrics=['accuracy', Precision(), Recall()])\n",
    "\n",
    "   # Generate a print\n",
    "   print('------------------------------------------------------------------------')\n",
    "   print(f'Training for fold {fold_no} ...')\n",
    "\n",
    "   # Fit data to model\n",
    "   history = model.fit(X[train], y[train],\n",
    "            batch_size=32,\n",
    "            epochs=20,\n",
    "            verbose=1)\n",
    "   histories.append(history)\n",
    "\n",
    "   # Generate generalization metrics\n",
    "   scores = model.evaluate(X[test], y[test], verbose=0)\n",
    "   scores_per_fold.append(scores)\n",
    "\n",
    "   fold_no = fold_no + 1"
   ]
  },
  {
   "cell_type": "code",
   "execution_count": 17,
   "metadata": {},
   "outputs": [
    {
     "name": "stdout",
     "output_type": "stream",
     "text": [
      "------------------------------------------------------------------------\n",
      "Score per fold\n",
      "------------------------------------------------------------------------\n",
      "> Fold 1 - Loss: 3.7864780755292315e-12 - Accuracy: 100.0%\n",
      "------------------------------------------------------------------------\n",
      "> Fold 2 - Loss: 1.7263095397623829e-09 - Accuracy: 100.0%\n",
      "------------------------------------------------------------------------\n",
      "> Fold 3 - Loss: 5.12715482711792 - Accuracy: 89.99999761581421%\n",
      "------------------------------------------------------------------------\n",
      "> Fold 4 - Loss: 38.119117736816406 - Accuracy: 80.0000011920929%\n",
      "------------------------------------------------------------------------\n",
      "> Fold 5 - Loss: 5.3505539894104 - Accuracy: 80.0000011920929%\n",
      "------------------------------------------------------------------------\n",
      "Average scores for all folds:\n",
      "> Accuracy: 90.0 (+- 0.08944271376879089)\n",
      "> Loss: 9.719365311014965\n",
      "------------------------------------------------------------------------\n"
     ]
    }
   ],
   "source": [
    "# == Provide average scores ==\n",
    "print('------------------------------------------------------------------------')\n",
    "print('Score per fold')\n",
    "for i in range(0, len(scores_per_fold)):\n",
    "  print('------------------------------------------------------------------------')\n",
    "  print(f'> Fold {i+1} - Loss: {scores_per_fold[i][0]} - Accuracy: {scores_per_fold[i][1]*100}%')\n",
    "print('------------------------------------------------------------------------')\n",
    "print('Average scores for all folds:')\n",
    "print(f'> Accuracy: {np.mean([scores[1] for scores in scores_per_fold])*100} (+- {np.std([scores[1] for scores in scores_per_fold])})')\n",
    "print(f'> Loss: {np.mean([scores[0] for scores in scores_per_fold])}')\n",
    "print('------------------------------------------------------------------------')"
   ]
  },
  {
   "cell_type": "code",
   "execution_count": 2,
   "metadata": {},
   "outputs": [
    {
     "ename": "NameError",
     "evalue": "name 'scores_per_fold' is not defined",
     "output_type": "error",
     "traceback": [
      "\u001b[1;31m---------------------------------------------------------------------------\u001b[0m",
      "\u001b[1;31mNameError\u001b[0m                                 Traceback (most recent call last)",
      "Cell \u001b[1;32mIn[2], line 1\u001b[0m\n\u001b[1;32m----> 1\u001b[0m \u001b[39mprint\u001b[39m(scores_per_fold)\n",
      "\u001b[1;31mNameError\u001b[0m: name 'scores_per_fold' is not defined"
     ]
    }
   ],
   "source": [
    "print(scores_per_fold)\n"
   ]
  }
 ],
 "metadata": {
  "kernelspec": {
   "display_name": "Python 3",
   "language": "python",
   "name": "python3"
  },
  "language_info": {
   "codemirror_mode": {
    "name": "ipython",
    "version": 3
   },
   "file_extension": ".py",
   "mimetype": "text/x-python",
   "name": "python",
   "nbconvert_exporter": "python",
   "pygments_lexer": "ipython3",
   "version": "3.11.3"
  },
  "orig_nbformat": 4
 },
 "nbformat": 4,
 "nbformat_minor": 2
}
