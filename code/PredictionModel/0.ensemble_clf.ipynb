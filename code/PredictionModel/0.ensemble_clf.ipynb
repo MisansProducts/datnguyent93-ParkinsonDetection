{
 "cells": [
  {
   "cell_type": "code",
   "execution_count": 3,
   "metadata": {},
   "outputs": [],
   "source": [
    "import numpy as np\n",
    "from sklearn.model_selection import train_test_split\n",
    "from sklearn.ensemble import RandomForestClassifier\n",
    "from sklearn.metrics import accuracy_score, classification_report\n",
    "from sklearn.ensemble import VotingClassifier\n",
    "from skimage.io import imread\n",
    "from skimage.transform import resize\n",
    "import os\n"
   ]
  },
  {
   "cell_type": "markdown",
   "metadata": {},
   "source": [
    "load data"
   ]
  },
  {
   "cell_type": "code",
   "execution_count": 4,
   "metadata": {},
   "outputs": [
    {
     "name": "stdout",
     "output_type": "stream",
     "text": [
      "Unique image shapes encountered: {(65536,)}\n",
      "Unique image shapes encountered: {(65536,)}\n"
     ]
    }
   ],
   "source": [
    "def load_data_from_folder(folder_path):\n",
    "    images = []\n",
    "    labels = []\n",
    "    for label in [\"HC\", \"PD\"]:\n",
    "        label_path = f\"{folder_path}/{label}\"\n",
    "        for image_path in os.listdir(label_path):\n",
    "            full_path = f\"{label_path}/{image_path}\"\n",
    "            try:\n",
    "                img = imread(full_path)\n",
    "                # Convert all images to grayscale\n",
    "                if len(img.shape) == 3:\n",
    "                    img = np.mean(img, axis=-1)\n",
    "                img = resize(img, (256, 256)).flatten()  # resize and flatten the image\n",
    "                images.append(img)\n",
    "                labels.append(label)\n",
    "            except Exception as e:\n",
    "                print(f\"Error processing image: {full_path}\")\n",
    "                print(f\"Error details: {e}\")\n",
    "                continue\n",
    "\n",
    "    # Debugging step\n",
    "    image_shapes = [img.shape for img in images]\n",
    "    unique_shapes = set(image_shapes)\n",
    "    print(f\"Unique image shapes encountered: {unique_shapes}\")\n",
    "\n",
    "    return np.array(images), np.array(labels)\n",
    "\n",
    "# Load data\n",
    "drawings_X, drawings_y = load_data_from_folder(\"drawings\")\n",
    "speech_X, speech_y = load_data_from_folder(\"speech\")\n"
   ]
  },
  {
   "cell_type": "markdown",
   "metadata": {},
   "source": [
    "data processing"
   ]
  },
  {
   "cell_type": "code",
   "execution_count": 5,
   "metadata": {},
   "outputs": [],
   "source": [
    "# Split data\n",
    "X_train_drawings, X_test_drawings, y_train_drawings, y_test_drawings = train_test_split(drawings_X, drawings_y, test_size=0.2)\n",
    "X_train_speech, X_test_speech, y_train_speech, y_test_speech = train_test_split(speech_X, speech_y, test_size=0.2)\n"
   ]
  },
  {
   "cell_type": "markdown",
   "metadata": {},
   "source": [
    "train model"
   ]
  },
  {
   "cell_type": "code",
   "execution_count": 6,
   "metadata": {},
   "outputs": [
    {
     "name": "stdout",
     "output_type": "stream",
     "text": [
      "Performance for Drawings:\n",
      "              precision    recall  f1-score   support\n",
      "\n",
      "          HC       0.76      0.91      0.83       264\n",
      "          PD       0.79      0.54      0.64       162\n",
      "\n",
      "    accuracy                           0.77       426\n",
      "   macro avg       0.78      0.72      0.74       426\n",
      "weighted avg       0.77      0.77      0.76       426\n",
      "\n",
      "\n",
      "Performance for Speech:\n",
      "              precision    recall  f1-score   support\n",
      "\n",
      "          HC       0.95      0.90      0.93        21\n",
      "          PD       0.90      0.95      0.93        20\n",
      "\n",
      "    accuracy                           0.93        41\n",
      "   macro avg       0.93      0.93      0.93        41\n",
      "weighted avg       0.93      0.93      0.93        41\n",
      "\n"
     ]
    }
   ],
   "source": [
    "# Train Random Forest models\n",
    "clf_drawings = RandomForestClassifier()\n",
    "clf_drawings.fit(X_train_drawings, y_train_drawings)\n",
    "drawings_predictions = clf_drawings.predict(X_test_drawings)\n",
    "print(\"Performance for Drawings:\")\n",
    "print(classification_report(y_test_drawings, drawings_predictions))\n",
    "\n",
    "clf_speech = RandomForestClassifier()\n",
    "clf_speech.fit(X_train_speech, y_train_speech)\n",
    "speech_predictions = clf_speech.predict(X_test_speech)\n",
    "print(\"\\nPerformance for Speech:\")\n",
    "print(classification_report(y_test_speech, speech_predictions))\n"
   ]
  },
  {
   "cell_type": "markdown",
   "metadata": {},
   "source": [
    "evaluate, ensemble"
   ]
  },
  {
   "cell_type": "code",
   "execution_count": 7,
   "metadata": {},
   "outputs": [
    {
     "ename": "AttributeError",
     "evalue": "'RandomForestClassifier' object has no attribute 'save'",
     "output_type": "error",
     "traceback": [
      "\u001b[1;31m---------------------------------------------------------------------------\u001b[0m",
      "\u001b[1;31mAttributeError\u001b[0m                            Traceback (most recent call last)",
      "\u001b[1;32mc:\\Users\\datng\\iCloudDrive\\0. College\\0.Machine Learning Projects\\ParkinsonDetection\\ParkinsonDetection\\code\\PredictionModel\\0.ensemble_clf.ipynb Cell 9\u001b[0m line \u001b[0;36m1\n\u001b[1;32m----> <a href='vscode-notebook-cell:/c%3A/Users/datng/iCloudDrive/0.%20College/0.Machine%20Learning%20Projects/ParkinsonDetection/ParkinsonDetection/code/PredictionModel/0.ensemble_clf.ipynb#X11sZmlsZQ%3D%3D?line=0'>1</a>\u001b[0m clf_drawings\u001b[39m.\u001b[39;49msave(\u001b[39m'\u001b[39m\u001b[39mdrawings_model.h5\u001b[39m\u001b[39m'\u001b[39m)\n\u001b[0;32m      <a href='vscode-notebook-cell:/c%3A/Users/datng/iCloudDrive/0.%20College/0.Machine%20Learning%20Projects/ParkinsonDetection/ParkinsonDetection/code/PredictionModel/0.ensemble_clf.ipynb#X11sZmlsZQ%3D%3D?line=1'>2</a>\u001b[0m clf_speech\u001b[39m.\u001b[39msave(\u001b[39m'\u001b[39m\u001b[39mspeech_model.h5\u001b[39m\u001b[39m'\u001b[39m)\n",
      "\u001b[1;31mAttributeError\u001b[0m: 'RandomForestClassifier' object has no attribute 'save'"
     ]
    }
   ],
   "source": [
    "clf_drawings.save('drawings_model.h5')\n",
    "clf_speech.save('speech_model.h5')\n"
   ]
  }
 ],
 "metadata": {
  "kernelspec": {
   "display_name": "Python 3",
   "language": "python",
   "name": "python3"
  },
  "language_info": {
   "codemirror_mode": {
    "name": "ipython",
    "version": 3
   },
   "file_extension": ".py",
   "mimetype": "text/x-python",
   "name": "python",
   "nbconvert_exporter": "python",
   "pygments_lexer": "ipython3",
   "version": "3.11.6"
  }
 },
 "nbformat": 4,
 "nbformat_minor": 2
}
