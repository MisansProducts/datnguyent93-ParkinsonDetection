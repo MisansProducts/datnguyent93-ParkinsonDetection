{
 "cells": [
  {
   "cell_type": "markdown",
   "metadata": {},
   "source": [
    "Extract mel-spectrogram from audio"
   ]
  },
  {
   "cell_type": "code",
   "execution_count": 1,
   "metadata": {},
   "outputs": [
    {
     "ename": "ModuleNotFoundError",
     "evalue": "No module named 'xgboost'",
     "output_type": "error",
     "traceback": [
      "\u001b[1;31m---------------------------------------------------------------------------\u001b[0m",
      "\u001b[1;31mModuleNotFoundError\u001b[0m                       Traceback (most recent call last)",
      "\u001b[1;32mc:\\Users\\datng\\iCloudDrive\\0. College\\0.Machine Learning Projects\\ParkinsonDetection\\ParkinsonDetection\\code\\PredictionModel\\main_XGBoost_KFOLD.ipynb Cell 2\u001b[0m line \u001b[0;36m6\n\u001b[0;32m      <a href='vscode-notebook-cell:/c%3A/Users/datng/iCloudDrive/0.%20College/0.Machine%20Learning%20Projects/ParkinsonDetection/ParkinsonDetection/code/PredictionModel/main_XGBoost_KFOLD.ipynb#W1sZmlsZQ%3D%3D?line=3'>4</a>\u001b[0m \u001b[39mfrom\u001b[39;00m \u001b[39mkeras\u001b[39;00m\u001b[39m.\u001b[39;00m\u001b[39mpreprocessing\u001b[39;00m\u001b[39m.\u001b[39;00m\u001b[39mimage\u001b[39;00m \u001b[39mimport\u001b[39;00m load_img, img_to_array\n\u001b[0;32m      <a href='vscode-notebook-cell:/c%3A/Users/datng/iCloudDrive/0.%20College/0.Machine%20Learning%20Projects/ParkinsonDetection/ParkinsonDetection/code/PredictionModel/main_XGBoost_KFOLD.ipynb#W1sZmlsZQ%3D%3D?line=4'>5</a>\u001b[0m \u001b[39mfrom\u001b[39;00m \u001b[39msklearn\u001b[39;00m\u001b[39m.\u001b[39;00m\u001b[39mmetrics\u001b[39;00m \u001b[39mimport\u001b[39;00m accuracy_score, precision_score, recall_score, log_loss\n\u001b[1;32m----> <a href='vscode-notebook-cell:/c%3A/Users/datng/iCloudDrive/0.%20College/0.Machine%20Learning%20Projects/ParkinsonDetection/ParkinsonDetection/code/PredictionModel/main_XGBoost_KFOLD.ipynb#W1sZmlsZQ%3D%3D?line=5'>6</a>\u001b[0m \u001b[39mimport\u001b[39;00m \u001b[39mxgboost\u001b[39;00m \u001b[39mas\u001b[39;00m \u001b[39mxgb\u001b[39;00m\n",
      "\u001b[1;31mModuleNotFoundError\u001b[0m: No module named 'xgboost'"
     ]
    }
   ],
   "source": [
    "import glob\n",
    "import numpy as np\n",
    "from sklearn.model_selection import KFold\n",
    "from keras.preprocessing.image import load_img, img_to_array\n",
    "from sklearn.metrics import accuracy_score, precision_score, recall_score, log_loss\n",
    "import xgboost as xgb"
   ]
  },
  {
   "cell_type": "markdown",
   "metadata": {},
   "source": [
    "Find graphic specs"
   ]
  },
  {
   "cell_type": "code",
   "execution_count": null,
   "metadata": {},
   "outputs": [],
   "source": [
    " # Get file paths\n",
    "pd_files = glob.glob(\"./plots/PD/*.png\")\n",
    "hc_files = glob.glob(\"./plots/HC/*.png\")"
   ]
  },
  {
   "cell_type": "markdown",
   "metadata": {},
   "source": [
    "train"
   ]
  },
  {
   "cell_type": "code",
   "execution_count": null,
   "metadata": {},
   "outputs": [],
   "source": [
    "def convert_images_to_array(files):\n",
    "    images_as_array=[]\n",
    "    for file in files:\n",
    "        # Convert image to numpy array\n",
    "        image = load_img(file, target_size=(640, 480))\n",
    "        image_arr = img_to_array(image)\n",
    "        images_as_array.append(image_arr)\n",
    "    return np.array(images_as_array)"
   ]
  },
  {
   "cell_type": "code",
   "execution_count": null,
   "metadata": {},
   "outputs": [
    {
     "ename": "ValueError",
     "evalue": "cannot reshape array of size 0 into shape (0,newaxis)",
     "output_type": "error",
     "traceback": [
      "\u001b[1;31m---------------------------------------------------------------------------\u001b[0m",
      "\u001b[1;31mValueError\u001b[0m                                Traceback (most recent call last)",
      "\u001b[1;32mc:\\Users\\datng\\iCloudDrive\\0. College\\0.Machine Learning Projects\\ParkinsonDetection\\ParkinsonDetection\\code\\PredictionModel\\main_XGBoost_KFOLD.ipynb Cell 7\u001b[0m line \u001b[0;36m5\n\u001b[0;32m      <a href='vscode-notebook-cell:/c%3A/Users/datng/iCloudDrive/0.%20College/0.Machine%20Learning%20Projects/ParkinsonDetection/ParkinsonDetection/code/PredictionModel/main_XGBoost_KFOLD.ipynb#W6sZmlsZQ%3D%3D?line=1'>2</a>\u001b[0m hc_images \u001b[39m=\u001b[39m convert_images_to_array(hc_files)\n\u001b[0;32m      <a href='vscode-notebook-cell:/c%3A/Users/datng/iCloudDrive/0.%20College/0.Machine%20Learning%20Projects/ParkinsonDetection/ParkinsonDetection/code/PredictionModel/main_XGBoost_KFOLD.ipynb#W6sZmlsZQ%3D%3D?line=3'>4</a>\u001b[0m \u001b[39m# Flatten images\u001b[39;00m\n\u001b[1;32m----> <a href='vscode-notebook-cell:/c%3A/Users/datng/iCloudDrive/0.%20College/0.Machine%20Learning%20Projects/ParkinsonDetection/ParkinsonDetection/code/PredictionModel/main_XGBoost_KFOLD.ipynb#W6sZmlsZQ%3D%3D?line=4'>5</a>\u001b[0m pd_images \u001b[39m=\u001b[39m pd_images\u001b[39m.\u001b[39;49mreshape((pd_images\u001b[39m.\u001b[39;49mshape[\u001b[39m0\u001b[39;49m], \u001b[39m-\u001b[39;49m\u001b[39m1\u001b[39;49m))\n\u001b[0;32m      <a href='vscode-notebook-cell:/c%3A/Users/datng/iCloudDrive/0.%20College/0.Machine%20Learning%20Projects/ParkinsonDetection/ParkinsonDetection/code/PredictionModel/main_XGBoost_KFOLD.ipynb#W6sZmlsZQ%3D%3D?line=5'>6</a>\u001b[0m hc_images \u001b[39m=\u001b[39m hc_images\u001b[39m.\u001b[39mreshape((hc_images\u001b[39m.\u001b[39mshape[\u001b[39m0\u001b[39m], \u001b[39m-\u001b[39m\u001b[39m1\u001b[39m))\n\u001b[0;32m      <a href='vscode-notebook-cell:/c%3A/Users/datng/iCloudDrive/0.%20College/0.Machine%20Learning%20Projects/ParkinsonDetection/ParkinsonDetection/code/PredictionModel/main_XGBoost_KFOLD.ipynb#W6sZmlsZQ%3D%3D?line=7'>8</a>\u001b[0m \u001b[39m# Create labels\u001b[39;00m\n",
      "\u001b[1;31mValueError\u001b[0m: cannot reshape array of size 0 into shape (0,newaxis)"
     ]
    }
   ],
   "source": [
    "pd_images = convert_images_to_array(pd_files)\n",
    "hc_images = convert_images_to_array(hc_files)\n",
    "\n",
    "# Flatten images\n",
    "pd_images = pd_images.reshape((pd_images.shape[0], -1))\n",
    "hc_images = hc_images.reshape((hc_images.shape[0], -1))\n",
    "\n",
    "# Create labels\n",
    "pd_labels = np.ones(len(pd_files))\n",
    "hc_labels = np.zeros(len(hc_files))\n",
    "\n",
    "# Concatenate data and labels\n",
    "data = np.concatenate((pd_images, hc_images), axis=0)\n",
    "labels = np.concatenate((pd_labels, hc_labels), axis=0)\n",
    "\n",
    "# Split data into training and testing sets\n",
    "#X_train, X_test, y_train, y_test = train_test_split(data, labels, test_size=0.2)\n"
   ]
  },
  {
   "cell_type": "code",
   "execution_count": null,
   "metadata": {},
   "outputs": [
    {
     "name": "stderr",
     "output_type": "stream",
     "text": [
      "C:\\Users\\datng\\AppData\\Local\\Packages\\PythonSoftwareFoundation.Python.3.11_qbz5n2kfra8p0\\LocalCache\\local-packages\\Python311\\site-packages\\xgboost\\sklearn.py:1395: UserWarning: `use_label_encoder` is deprecated in 1.7.0.\n",
      "  warnings.warn(\"`use_label_encoder` is deprecated in 1.7.0.\")\n"
     ]
    },
    {
     "name": "stdout",
     "output_type": "stream",
     "text": [
      "Accuracy: 72.73%\n",
      "Precision: 62.50%\n",
      "Recall: 100.00%\n",
      "Log Loss: 0.83\n"
     ]
    },
    {
     "name": "stderr",
     "output_type": "stream",
     "text": [
      "C:\\Users\\datng\\AppData\\Local\\Packages\\PythonSoftwareFoundation.Python.3.11_qbz5n2kfra8p0\\LocalCache\\local-packages\\Python311\\site-packages\\xgboost\\sklearn.py:1395: UserWarning: `use_label_encoder` is deprecated in 1.7.0.\n",
      "  warnings.warn(\"`use_label_encoder` is deprecated in 1.7.0.\")\n"
     ]
    },
    {
     "name": "stdout",
     "output_type": "stream",
     "text": [
      "Accuracy: 80.00%\n",
      "Precision: 100.00%\n",
      "Recall: 66.67%\n",
      "Log Loss: 0.64\n"
     ]
    },
    {
     "name": "stderr",
     "output_type": "stream",
     "text": [
      "C:\\Users\\datng\\AppData\\Local\\Packages\\PythonSoftwareFoundation.Python.3.11_qbz5n2kfra8p0\\LocalCache\\local-packages\\Python311\\site-packages\\xgboost\\sklearn.py:1395: UserWarning: `use_label_encoder` is deprecated in 1.7.0.\n",
      "  warnings.warn(\"`use_label_encoder` is deprecated in 1.7.0.\")\n"
     ]
    },
    {
     "name": "stdout",
     "output_type": "stream",
     "text": [
      "Accuracy: 100.00%\n",
      "Precision: 100.00%\n",
      "Recall: 100.00%\n",
      "Log Loss: 0.11\n"
     ]
    },
    {
     "name": "stderr",
     "output_type": "stream",
     "text": [
      "C:\\Users\\datng\\AppData\\Local\\Packages\\PythonSoftwareFoundation.Python.3.11_qbz5n2kfra8p0\\LocalCache\\local-packages\\Python311\\site-packages\\xgboost\\sklearn.py:1395: UserWarning: `use_label_encoder` is deprecated in 1.7.0.\n",
      "  warnings.warn(\"`use_label_encoder` is deprecated in 1.7.0.\")\n"
     ]
    },
    {
     "name": "stdout",
     "output_type": "stream",
     "text": [
      "Accuracy: 100.00%\n",
      "Precision: 100.00%\n",
      "Recall: 100.00%\n",
      "Log Loss: 0.13\n"
     ]
    },
    {
     "name": "stderr",
     "output_type": "stream",
     "text": [
      "C:\\Users\\datng\\AppData\\Local\\Packages\\PythonSoftwareFoundation.Python.3.11_qbz5n2kfra8p0\\LocalCache\\local-packages\\Python311\\site-packages\\xgboost\\sklearn.py:1395: UserWarning: `use_label_encoder` is deprecated in 1.7.0.\n",
      "  warnings.warn(\"`use_label_encoder` is deprecated in 1.7.0.\")\n"
     ]
    },
    {
     "name": "stdout",
     "output_type": "stream",
     "text": [
      "Accuracy: 90.00%\n",
      "Precision: 80.00%\n",
      "Recall: 100.00%\n",
      "Log Loss: 0.14\n"
     ]
    }
   ],
   "source": [
    "kfold = KFold(n_splits=5, shuffle=True)\n",
    "\n",
    "accuracy_values = []\n",
    "precision_values = []\n",
    "recall_values = []\n",
    "loss_values = []\n",
    "\n",
    "for train_index, test_index in kfold.split(data, labels):\n",
    "    model = xgb.XGBClassifier(use_label_encoder=False)\n",
    "    model.fit(data[train_index], labels[train_index])\n",
    "    \n",
    "    predictions = model.predict(data[test_index])\n",
    "    probabilities = model.predict_proba(data[test_index])\n",
    "\n",
    "    accuracy = accuracy_score(labels[test_index], predictions)\n",
    "    precision = precision_score(labels[test_index], predictions)\n",
    "    recall = recall_score(labels[test_index], predictions)\n",
    "    loss = log_loss(labels[test_index], probabilities)\n",
    "    \n",
    "    accuracy_values.append(accuracy)\n",
    "    precision_values.append(precision)\n",
    "    recall_values.append(recall)\n",
    "    loss_values.append(loss)\n",
    "    \n",
    "    print(\"Accuracy: %.2f%%\" % (accuracy * 100))\n",
    "    print(\"Precision: %.2f%%\" % (precision * 100))\n",
    "    print(\"Recall: %.2f%%\" % (recall * 100))\n",
    "    print(\"Log Loss: %.2f\" % loss)"
   ]
  },
  {
   "cell_type": "code",
   "execution_count": null,
   "metadata": {},
   "outputs": [
    {
     "name": "stdout",
     "output_type": "stream",
     "text": [
      "\n",
      "Final Cross-Validation Metrics:\n",
      "Accuracy: 88.55%\n",
      "Precision: 88.50%\n",
      "Recall: 93.33%\n",
      "Log Loss: 0.37\n"
     ]
    }
   ],
   "source": [
    "# Final performance report\n",
    "print(\"\\nFinal Cross-Validation Metrics:\")\n",
    "print(\"Accuracy: %.2f%%\" % (np.mean(accuracy_values) * 100))\n",
    "print(\"Precision: %.2f%%\" % (np.mean(precision_values) * 100))\n",
    "print(\"Recall: %.2f%%\" % (np.mean(recall_values) * 100))\n",
    "print(\"Log Loss: %.2f\" % np.mean(loss_values))"
   ]
  },
  {
   "cell_type": "code",
   "execution_count": null,
   "metadata": {},
   "outputs": [],
   "source": [
    "model.save_model('xgboost.model')"
   ]
  }
 ],
 "metadata": {
  "kernelspec": {
   "display_name": "Python 3",
   "language": "python",
   "name": "python3"
  },
  "language_info": {
   "codemirror_mode": {
    "name": "ipython",
    "version": 3
   },
   "file_extension": ".py",
   "mimetype": "text/x-python",
   "name": "python",
   "nbconvert_exporter": "python",
   "pygments_lexer": "ipython3",
   "version": "3.11.6"
  },
  "orig_nbformat": 4
 },
 "nbformat": 4,
 "nbformat_minor": 2
}
