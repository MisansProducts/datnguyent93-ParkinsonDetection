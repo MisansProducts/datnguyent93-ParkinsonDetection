{
 "cells": [
  {
   "cell_type": "code",
   "execution_count": 1,
   "metadata": {},
   "outputs": [],
   "source": [
    "import numpy as np\n",
    "from sklearn.model_selection import train_test_split\n",
    "from sklearn.ensemble import RandomForestClassifier\n",
    "from sklearn.metrics import accuracy_score, classification_report\n",
    "from sklearn.ensemble import VotingClassifier\n",
    "from skimage.io import imread\n",
    "from skimage.transform import resize\n",
    "import tensorflow as tf\n",
    "from tensorflow.keras.applications.resnet import ResNet50, preprocess_input\n",
    "from tensorflow.keras.preprocessing.image import img_to_array, load_img\n",
    "from tensorflow.keras.models import Sequential\n",
    "from tensorflow.keras.layers import Dense, Dropout, Conv2D, MaxPooling2D, Flatten, InputLayer\n",
    "from tensorflow.keras.optimizers import Adam\n",
    "\n",
    "import os\n",
    "import glob\n"
   ]
  },
  {
   "cell_type": "markdown",
   "metadata": {},
   "source": [
    "load data"
   ]
  },
  {
   "cell_type": "code",
   "execution_count": 2,
   "metadata": {},
   "outputs": [],
   "source": [
    "# ResNet take RGB images of size 224x224\n",
    "def load_data_from_folder(folder_path):\n",
    "    images = []\n",
    "    labels = []\n",
    "    for label in [\"HC\", \"PD\"]:\n",
    "        label_path = f\"{folder_path}/{label}\"\n",
    "        for image_path in os.listdir(label_path):\n",
    "            full_path = f\"{label_path}/{image_path}\"\n",
    "            try:\n",
    "                img = imread(full_path)\n",
    "                # Ensure image is RGB\n",
    "                if len(img.shape) == 2:\n",
    "                    img = gray2rgb(img)\n",
    "                img = resize(img, (224, 224, 3))  # Resize to the expected shape for ResNet50\n",
    "                images.append(img)\n",
    "                labels.append(label)\n",
    "            except Exception as e:\n",
    "                print(f\"Error processing image: {full_path}\")\n",
    "                print(f\"Error details: {e}\")\n",
    "                continue\n",
    "\n",
    "    return np.array(images), np.array(labels)\n",
    "\n",
    "# Load data\n",
    "drawings_X, drawings_y = load_data_from_folder(\"drawings\")\n",
    "speech_X, speech_y = load_data_from_folder(\"speech\")\n"
   ]
  },
  {
   "cell_type": "markdown",
   "metadata": {},
   "source": [
    "data processing"
   ]
  },
  {
   "cell_type": "code",
   "execution_count": 3,
   "metadata": {},
   "outputs": [
    {
     "name": "stdout",
     "output_type": "stream",
     "text": [
      " 6/67 [=>............................] - ETA: 29s"
     ]
    },
    {
     "ename": "",
     "evalue": "",
     "output_type": "error",
     "traceback": [
      "\u001b[1;31mThe Kernel crashed while executing code in the the current cell or a previous cell. Please review the code in the cell(s) to identify a possible cause of the failure. Click <a href='https://aka.ms/vscodeJupyterKernelCrash'>here</a> for more info. View Jupyter <a href='command:jupyter.viewOutput'>log</a> for further details."
     ]
    }
   ],
   "source": [
    "#resize images\n",
    "drawings_X_resized = np.array([resize(image, (224, 224)) for image in drawings_X])\n",
    "speech_X_resized = np.array([resize(image, (224, 224)) for image in speech_X])\n",
    "\n",
    "# Load the ResNet50 model with weights pre-trained on ImageNet without the top (fully connected) layers\n",
    "base_model = ResNet50(weights='imagenet', include_top=False, pooling='avg')\n",
    "\n",
    "# # Extract features\n",
    "# drawings_features = base_model.predict(preprocess_input(drawings_X_resized))\n",
    "# speech_features = base_model.predict(preprocess_input(speech_X_resized))\n"
   ]
  },
  {
   "cell_type": "markdown",
   "metadata": {},
   "source": [
    "train model"
   ]
  },
  {
   "cell_type": "code",
   "execution_count": null,
   "metadata": {},
   "outputs": [],
   "source": [
    "def create_fc_model(input_shape):\n",
    "    model = Sequential()\n",
    "    model.add(Dense(512, activation='relu', input_shape=input_shape))\n",
    "    model.add(Dropout(0.5))\n",
    "    model.add(Dense(256, activation='relu'))\n",
    "    model.add(Dropout(0.5))\n",
    "    model.add(Dense(1, activation='sigmoid'))\n",
    "    \n",
    "    model.compile(optimizer='adam', loss='binary_crossentropy', metrics=['accuracy'])\n",
    "    \n",
    "    return model\n",
    "\n",
    "# Train the fully connected model for drawings data\n",
    "drawings_model = create_fc_model((2048,))  # 2048 features from ResNet50 with pooling='avg'\n",
    "drawings_model.fit(drawings_features, drawings_y, epochs=10, batch_size=32, validation_split=0.2)\n",
    "\n",
    "# Train the fully connected model for speech data\n",
    "speech_model = create_fc_model((2048,))\n",
    "speech_model.fit(speech_features, speech_y, epochs=10, batch_size=32, validation_split=0.2)\n"
   ]
  },
  {
   "cell_type": "markdown",
   "metadata": {},
   "source": [
    "evaluate, ensemble"
   ]
  },
  {
   "cell_type": "code",
   "execution_count": null,
   "metadata": {},
   "outputs": [],
   "source": [
    "drawings_model.save('drawings_model.h5')\n",
    "speech_model.save('speech_model.h5')\n"
   ]
  }
 ],
 "metadata": {
  "kernelspec": {
   "display_name": "Python 3",
   "language": "python",
   "name": "python3"
  },
  "language_info": {
   "codemirror_mode": {
    "name": "ipython",
    "version": 3
   },
   "file_extension": ".py",
   "mimetype": "text/x-python",
   "name": "python",
   "nbconvert_exporter": "python",
   "pygments_lexer": "ipython3",
   "version": "3.11.6"
  }
 },
 "nbformat": 4,
 "nbformat_minor": 2
}
